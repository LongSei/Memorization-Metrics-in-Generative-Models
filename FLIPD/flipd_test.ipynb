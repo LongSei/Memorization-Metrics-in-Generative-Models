{
 "cells": [
  {
   "cell_type": "markdown",
   "metadata": {},
   "source": [
    "# Load pretrain model"
   ]
  },
  {
   "cell_type": "code",
   "execution_count": 38,
   "metadata": {},
   "outputs": [],
   "source": [
    "from Score_Matching import *\n",
    "from FLIPD import *\n",
    "import torch \n",
    "from tqdm import tqdm\n",
    "import numpy as np\n",
    "import os\n",
    "import matplotlib.pyplot as plt"
   ]
  },
  {
   "cell_type": "code",
   "execution_count": 22,
   "metadata": {},
   "outputs": [],
   "source": [
    "device = torch.device(\"cuda\" if torch.cuda.is_available() else \"cpu\")"
   ]
  },
  {
   "cell_type": "code",
   "execution_count": 23,
   "metadata": {},
   "outputs": [],
   "source": [
    "score_model = ScoreNet(\n",
    "    image_dim=(1,28,28), \n",
    "    use_condition=True, \n",
    "    num_classes=10, \n",
    "    device = device\n",
    ")"
   ]
  },
  {
   "cell_type": "code",
   "execution_count": 24,
   "metadata": {},
   "outputs": [
    {
     "name": "stdout",
     "output_type": "stream",
     "text": [
      "Loading model from checkpoint:  ./Score_Matching/checkpoints/20250114-100745\n"
     ]
    },
    {
     "data": {
      "text/plain": [
       "<All keys matched successfully>"
      ]
     },
     "execution_count": 24,
     "metadata": {},
     "output_type": "execute_result"
    }
   ],
   "source": [
    "# Load model with lastest checkpoint\n",
    "def find_last_folder():\n",
    "    all_subdirs = ['./Score_Matching/checkpoints/' + d for d in os.listdir('./Score_Matching/checkpoints/') if os.path.isdir(os.path.join('./Score_Matching/checkpoints/', d))]\n",
    "    return max(all_subdirs, key=os.path.getmtime)\n",
    "\n",
    "last_checkpoint = find_last_folder()\n",
    "print(\"Loading model from checkpoint: \", last_checkpoint)\n",
    "\n",
    "score_model.model.load_state_dict(torch.load(last_checkpoint + '/model.pt', map_location=device))"
   ]
  },
  {
   "cell_type": "markdown",
   "metadata": {},
   "source": [
    "# Test model"
   ]
  },
  {
   "cell_type": "code",
   "execution_count": 25,
   "metadata": {},
   "outputs": [],
   "source": [
    "# # Sampling \n",
    "# sampler = Predictor_Corrector_Sampler(\n",
    "#     score_model=score_model, \n",
    "#     signal_to_noise_ratio=0.16, \n",
    "#     device=device,\n",
    "#     epsilon=1e-6\n",
    "# )\n",
    "\n",
    "# image_state = sampler.sample(\n",
    "#     num_steps=100, \n",
    "#     batch_size=1, \n",
    "#     sample_condition=torch.tensor([0]).to(device)\n",
    "# )\n",
    "\n",
    "# # show image\n",
    "# import matplotlib.pyplot as plt\n",
    "# plt.imshow(image_state.squeeze().cpu().detach().numpy(), cmap='gray')"
   ]
  },
  {
   "cell_type": "markdown",
   "metadata": {},
   "source": [
    "# Calculate FLIPD "
   ]
  },
  {
   "cell_type": "code",
   "execution_count": 26,
   "metadata": {},
   "outputs": [],
   "source": [
    "metric = FLIPD(\n",
    "    score_model=score_model\n",
    ")"
   ]
  },
  {
   "cell_type": "code",
   "execution_count": 34,
   "metadata": {},
   "outputs": [
    {
     "name": "stdout",
     "output_type": "stream",
     "text": [
      "FLIPD score:  tensor([[[[785.0867, 784.3537, 801.5764, 791.7820, 802.3713, 802.4904, 799.0140,\n",
      "           802.4905, 799.0086, 798.4280, 784.8847, 802.4905, 785.1749, 802.4905,\n",
      "           802.4905, 791.4944, 802.4905, 784.0049, 802.4846, 802.3643, 796.1561,\n",
      "           802.4902, 798.3303, 802.4858, 802.4905, 793.7251, 801.7403, 802.4904],\n",
      "          [800.8855, 802.4732, 787.7336, 784.0000, 802.4904, 784.0000, 802.4905,\n",
      "           797.9766, 792.7396, 802.4726, 784.1552, 802.4905, 802.4904, 802.4904,\n",
      "           796.2051, 802.2340, 802.4901, 802.4905, 796.1060, 802.4905, 784.5641,\n",
      "           784.0002, 802.4905, 798.9263, 800.8809, 788.3996, 795.9963, 802.4857],\n",
      "          [802.3395, 797.4911, 802.3816, 802.4890, 802.4905, 802.4905, 802.4556,\n",
      "           787.7428, 789.7922, 802.4905, 795.3378, 785.7864, 802.4900, 802.4903,\n",
      "           802.4868, 784.1449, 792.7635, 802.4869, 801.2547, 802.4904, 802.4245,\n",
      "           802.4110, 798.8375, 797.6668, 784.3222, 802.4904, 802.4905, 791.4427],\n",
      "          [784.0047, 802.4905, 784.0069, 785.2892, 802.4905, 802.4905, 801.8800,\n",
      "           799.8237, 802.4905, 802.3915, 784.0027, 802.4905, 802.4855, 801.6557,\n",
      "           784.0000, 802.4899, 802.4652, 802.2075, 802.4905, 802.4905, 802.4899,\n",
      "           802.0800, 802.4878, 802.3771, 801.0021, 802.4905, 790.3330, 798.5665],\n",
      "          [802.4905, 802.4905, 791.7946, 802.4904, 798.8206, 784.6745, 802.4607,\n",
      "           802.4905, 802.4905, 802.4719, 801.1661, 802.4899, 791.2646, 790.8826,\n",
      "           802.4904, 802.4894, 802.4905, 802.4905, 802.4905, 793.0192, 791.9536,\n",
      "           794.8398, 802.4230, 802.4871, 802.4897, 802.4637, 794.9526, 802.4905],\n",
      "          [784.2926, 802.4897, 802.1879, 802.4901, 797.1912, 793.7177, 802.4905,\n",
      "           802.4008, 792.8453, 802.4905, 785.8641, 802.4904, 788.6580, 794.5150,\n",
      "           802.4905, 802.4904, 784.0134, 799.4133, 788.5486, 802.4904, 802.4878,\n",
      "           801.8214, 802.4905, 802.4171, 799.0490, 797.7791, 788.1353, 801.0317],\n",
      "          [800.1492, 790.5121, 802.4024, 785.1541, 802.4596, 802.4247, 802.4905,\n",
      "           802.4812, 802.4905, 794.5178, 797.7704, 790.1583, 793.5895, 802.4905,\n",
      "           793.7457, 797.6835, 794.7964, 802.4905, 799.0620, 802.4905, 786.2925,\n",
      "           785.0089, 802.4898, 802.4905, 802.4904, 802.4905, 787.7943, 802.4905],\n",
      "          [802.4761, 784.0060, 802.3220, 802.4905, 801.3118, 787.5387, 799.7869,\n",
      "           802.4905, 799.5448, 802.4905, 785.1069, 802.4905, 786.7484, 788.5774,\n",
      "           802.4877, 801.2344, 802.4905, 802.4902, 802.4905, 802.4905, 784.0055,\n",
      "           802.4905, 792.5933, 784.1047, 802.4905, 784.7761, 802.3581, 802.4841],\n",
      "          [802.4905, 790.6634, 802.4896, 802.4799, 802.4905, 802.4905, 802.4905,\n",
      "           791.0368, 802.4828, 798.8153, 801.9544, 802.4905, 802.4905, 802.4905,\n",
      "           802.1159, 793.9672, 797.5566, 795.2115, 799.5849, 784.4714, 793.4567,\n",
      "           802.4905, 802.4905, 802.4905, 802.4900, 801.8516, 802.4295, 796.7927],\n",
      "          [802.4905, 802.4905, 797.1883, 802.4905, 802.4905, 802.4904, 802.4905,\n",
      "           802.4746, 802.3612, 802.4904, 802.4533, 802.4904, 802.4058, 797.0875,\n",
      "           790.6180, 802.4905, 802.1672, 802.4661, 791.1942, 784.6833, 802.4905,\n",
      "           802.4904, 802.4905, 784.1445, 802.2788, 785.6898, 799.0266, 801.3732],\n",
      "          [784.0889, 802.4905, 802.4839, 802.4905, 802.4904, 784.6380, 791.9383,\n",
      "           784.0963, 800.5184, 802.4905, 802.4816, 793.0508, 798.0310, 786.5861,\n",
      "           790.3935, 802.3109, 802.4771, 802.4905, 802.4717, 794.4468, 801.1812,\n",
      "           802.3585, 784.3927, 787.1744, 789.3287, 802.4905, 802.4905, 790.0862],\n",
      "          [802.4905, 790.4135, 799.7789, 796.9903, 793.8103, 787.6698, 802.4905,\n",
      "           802.4905, 795.5850, 802.4904, 801.8928, 802.4615, 797.3394, 802.4905,\n",
      "           802.4904, 785.5139, 802.4748, 802.4905, 802.4804, 784.0505, 802.4905,\n",
      "           795.3551, 802.4899, 802.4905, 802.4905, 802.4905, 801.9592, 802.4905],\n",
      "          [785.5910, 801.7754, 784.7877, 802.4905, 802.4902, 802.4902, 790.7112,\n",
      "           802.3655, 784.0262, 797.0380, 802.4905, 802.4905, 784.1696, 793.4409,\n",
      "           802.4726, 798.7029, 802.3077, 802.4905, 802.4905, 784.0000, 802.4905,\n",
      "           802.4897, 802.4548, 784.8289, 802.4032, 784.0817, 800.5076, 802.3427],\n",
      "          [802.0364, 802.2621, 802.3679, 802.4905, 792.6349, 802.4894, 800.7817,\n",
      "           802.4905, 798.4391, 802.4905, 802.4905, 802.4881, 795.3287, 784.0579,\n",
      "           784.2736, 802.4904, 802.4905, 802.4905, 795.5240, 786.2146, 798.2691,\n",
      "           802.4880, 802.4828, 802.4905, 802.4902, 790.5801, 802.4903, 802.4808],\n",
      "          [802.4741, 802.4905, 802.3758, 802.4905, 797.8230, 802.4905, 802.4905,\n",
      "           802.4758, 784.1522, 802.1497, 802.4905, 790.4070, 802.4901, 802.4888,\n",
      "           802.4777, 797.8943, 797.2372, 802.4905, 802.1253, 802.4905, 794.4897,\n",
      "           799.1396, 802.4509, 802.4203, 802.4905, 802.4846, 795.8715, 797.9139],\n",
      "          [802.4905, 802.4369, 802.4761, 802.4905, 784.0058, 784.0000, 794.3105,\n",
      "           802.4905, 802.4897, 788.0650, 793.5382, 802.4801, 796.0963, 800.5782,\n",
      "           792.8755, 802.4905, 802.4893, 802.4905, 784.4587, 802.4899, 802.4774,\n",
      "           789.6264, 802.4905, 784.0538, 802.4905, 802.4905, 802.4905, 797.1165],\n",
      "          [784.0833, 802.3445, 802.4905, 786.2249, 802.4905, 802.4905, 801.3058,\n",
      "           802.4904, 802.4905, 789.4174, 802.4905, 802.4877, 802.4904, 802.4905,\n",
      "           795.6641, 802.4905, 802.4905, 802.4905, 797.6050, 797.6230, 801.8649,\n",
      "           801.2815, 784.0724, 801.9941, 784.0050, 802.4905, 802.4905, 802.1582],\n",
      "          [802.0220, 802.4902, 802.4905, 786.1160, 801.6788, 802.4905, 802.4905,\n",
      "           802.3679, 802.4905, 792.7767, 785.1163, 802.2536, 784.2302, 802.4774,\n",
      "           802.4847, 795.8617, 799.4013, 801.3191, 802.3279, 802.4905, 802.4570,\n",
      "           789.0149, 802.2291, 784.0008, 784.0781, 802.4596, 802.4905, 802.4905],\n",
      "          [802.4905, 802.4781, 793.8473, 802.4905, 802.4899, 802.4905, 798.0984,\n",
      "           801.4127, 802.4039, 787.1131, 802.4905, 802.4905, 802.0880, 802.4708,\n",
      "           802.4905, 797.3873, 802.2339, 802.4905, 802.3449, 802.4905, 799.0392,\n",
      "           793.3895, 788.7891, 784.1362, 794.4553, 784.0000, 802.4905, 785.2398],\n",
      "          [802.4905, 800.9621, 802.4330, 802.4905, 802.4904, 784.0501, 784.0192,\n",
      "           801.9148, 784.1273, 802.4795, 787.5121, 802.4708, 799.3970, 790.9330,\n",
      "           802.4868, 800.9183, 801.9669, 801.4843, 802.4904, 784.0000, 802.4905,\n",
      "           802.4815, 786.3279, 802.4900, 802.4904, 802.4611, 802.4904, 802.4797],\n",
      "          [802.4692, 788.0901, 796.9915, 784.1505, 802.4886, 784.0002, 802.4905,\n",
      "           784.2863, 802.4904, 793.2336, 802.4880, 802.4800, 802.2278, 792.2358,\n",
      "           801.5417, 798.6105, 802.3135, 802.4905, 802.4668, 784.0003, 801.9932,\n",
      "           802.4905, 802.4874, 784.1449, 802.4905, 802.4301, 802.0844, 802.4905],\n",
      "          [802.4862, 802.4905, 785.3411, 784.2524, 784.1829, 798.1168, 802.4905,\n",
      "           801.9308, 802.1884, 798.6448, 785.8031, 802.4902, 802.4905, 802.4026,\n",
      "           785.5305, 797.8890, 802.4905, 802.4904, 802.4621, 802.4905, 798.1269,\n",
      "           802.4904, 792.4420, 800.9333, 798.9706, 802.4905, 786.6168, 802.4883],\n",
      "          [802.1379, 787.1987, 790.1108, 802.1227, 784.2318, 802.1675, 802.4898,\n",
      "           802.4905, 799.9370, 784.0013, 800.2360, 802.4893, 787.1610, 786.1035,\n",
      "           784.0013, 802.4738, 784.0490, 784.0069, 800.9691, 802.4804, 784.0007,\n",
      "           798.7297, 802.4892, 802.4852, 802.4905, 802.4905, 802.4905, 802.4905],\n",
      "          [802.4905, 786.6116, 802.2198, 802.4904, 784.0102, 801.6239, 802.4626,\n",
      "           802.4661, 784.0701, 802.4724, 793.6700, 785.0879, 802.3677, 802.4875,\n",
      "           785.5666, 793.3216, 802.4905, 792.0727, 798.6821, 802.4905, 792.2204,\n",
      "           785.4376, 789.1855, 795.5886, 802.4904, 802.0535, 784.7573, 802.4905],\n",
      "          [802.4639, 800.4013, 802.4847, 784.0375, 802.4897, 802.4905, 802.4639,\n",
      "           784.0053, 802.4904, 792.2714, 784.0139, 800.0322, 802.4905, 802.4905,\n",
      "           802.4905, 802.3872, 802.4626, 802.4904, 784.5476, 801.5982, 784.0216,\n",
      "           802.1130, 802.4905, 802.4893, 800.0156, 787.5369, 786.7185, 802.4905],\n",
      "          [802.4905, 784.1639, 802.4905, 802.4905, 802.4723, 802.4474, 802.4904,\n",
      "           796.9174, 784.7834, 797.2157, 786.8776, 802.4886, 784.0093, 802.4905,\n",
      "           802.4861, 802.2399, 800.7154, 801.4296, 784.0405, 802.4904, 786.2134,\n",
      "           793.3677, 802.3978, 801.4293, 802.4905, 784.0015, 802.4905, 796.4529],\n",
      "          [792.0158, 784.2314, 802.4905, 786.8577, 784.0156, 802.4904, 787.8469,\n",
      "           799.8965, 802.4905, 797.9895, 801.9782, 796.1591, 802.4905, 802.4904,\n",
      "           802.3776, 802.4899, 802.4905, 793.1083, 802.4708, 802.4031, 796.9012,\n",
      "           787.8458, 793.9376, 802.4665, 795.3093, 802.4892, 796.9477, 801.6694],\n",
      "          [801.9174, 802.4905, 802.4905, 788.0812, 802.4905, 785.3207, 784.0486,\n",
      "           802.4904, 784.0311, 802.1086, 802.4850, 802.4905, 785.4702, 794.8275,\n",
      "           792.3194, 791.6580, 802.4905, 802.1960, 792.1311, 802.4905, 802.4905,\n",
      "           794.3719, 788.7858, 802.4905, 802.4904, 800.1015, 791.3134, 802.4905]]]],\n",
      "       grad_fn=<AddBackward0>)\n",
      "torch.Size([1, 1, 28, 28])\n"
     ]
    }
   ],
   "source": [
    "batch_size = 1 \n",
    "condition_label = [0]\n",
    "\n",
    "x = torch.randn(batch_size, 1, 28, 28).to(device)\n",
    "y = torch.tensor(condition_label).to(device)\n",
    "t_0 = torch.ones(batch_size).to(device) * (0.999999)\n",
    "\n",
    "# Compute the FLIPD score\n",
    "metric_score = metric.flipd(t_0, x, y)\n",
    "print(\"FLIPD score: \", metric_score)\n",
    "print(metric_score.shape)"
   ]
  },
  {
   "cell_type": "code",
   "execution_count": 44,
   "metadata": {},
   "outputs": [
    {
     "name": "stderr",
     "output_type": "stream",
     "text": [
      "100%|██████████| 40/40 [00:03<00:00, 13.23it/s]\n"
     ]
    }
   ],
   "source": [
    "time_steps = torch.linspace(1., 1e-5, 40)\n",
    "step_size = time_steps[0] - time_steps[1]\n",
    "\n",
    "image_state = x.clone()\n",
    "\n",
    "flipd_hist = []\n",
    "\n",
    "for step in tqdm(time_steps): \n",
    "    batch_time_step = torch.ones(batch_size, device=score_model.device) * step\n",
    "    score = score_model.model(batch_time_step, image_state, y)\n",
    "    score_norm = torch.norm(score.reshape(score.shape[0], -1), dim=-1).mean()\n",
    "    \n",
    "    # # Corrector step (Langevin MCMC)\n",
    "    noise_norm = torch.sqrt(torch.prod(torch.tensor(image_state.shape[1:])))\n",
    "    langevin_step_size = 2 * (0.16 * noise_norm / score_norm)**2\n",
    "    image_state = image_state + langevin_step_size * score + torch.sqrt(2 * langevin_step_size) * torch.randn_like(image_state)\n",
    "    \n",
    "    # Predictor step (Euler-Maruyama)\n",
    "    g = score_model.sde.sde(torch.zeros_like(image_state), batch_time_step)[1]\n",
    "    x_mean = image_state + (g**2)[:, None, None, None] * score_model.model(batch_time_step, image_state, y) * step_size\n",
    "    image_state = x_mean + torch.sqrt(g**2 * step_size)[:, None, None, None] * torch.randn_like(image_state)\n",
    "\n",
    "    flipd_hist.append(metric.flipd(t_0, image_state, y))"
   ]
  },
  {
   "cell_type": "code",
   "execution_count": 45,
   "metadata": {},
   "outputs": [
    {
     "data": {
      "text/plain": [
       "<matplotlib.image.AxesImage at 0x78ba75710>"
      ]
     },
     "execution_count": 45,
     "metadata": {},
     "output_type": "execute_result"
    },
    {
     "data": {
      "image/png": "[encoded data removed]",
      "text/plain": [
       "<Figure size 640x480 with 1 Axes>"
      ]
     },
     "metadata": {},
     "output_type": "display_data"
    }
   ],
   "source": [
    "plt.imshow(image_state.squeeze().cpu().detach().numpy(), cmap='gray')"
   ]
  },
  {
   "cell_type": "code",
   "execution_count": 46,
   "metadata": {},
   "outputs": [
    {
     "data": {
      "text/plain": [
       "[<matplotlib.lines.Line2D at 0x86eaf4650>]"
      ]
     },
     "execution_count": 46,
     "metadata": {},
     "output_type": "execute_result"
    },
    {
     "data": {
      "image/png": "[encoded data removed]",
      "text/plain": [
       "<Figure size 640x480 with 1 Axes>"
      ]
     },
     "metadata": {},
     "output_type": "display_data"
    }
   ],
   "source": [
    "step = [i for i in range(0, len(flipd_hist), 100)]\n",
    "step = step + [len(flipd_hist)-1]\n",
    "plt.figure()\n",
    "for i in step:\n",
    "    mean_flipd = flipd_hist[i].mean().detach().numpy()\n",
    "    plt.plot(i, mean_flipd, 'ro')\n",
    "    plt.text(i, mean_flipd, str(mean_flipd))\n",
    "\n",
    "# Extract mean values from flipd_hist\n",
    "mean_flipd_hist = [f.mean().detach().numpy() for f in flipd_hist]\n",
    "plt.plot(mean_flipd_hist)"
   ]
  }
 ],
 "metadata": {
  "kernelspec": {
   "display_name": "Python 3",
   "language": "python",
   "name": "python3"
  },
  "language_info": {
   "codemirror_mode": {
    "name": "ipython",
    "version": 3
   },
   "file_extension": ".py",
   "mimetype": "text/x-python",
   "name": "python",
   "nbconvert_exporter": "python",
   "pygments_lexer": "ipython3",
   "version": "3.11.7"
  }
 },
 "nbformat": 4,
 "nbformat_minor": 2
}
