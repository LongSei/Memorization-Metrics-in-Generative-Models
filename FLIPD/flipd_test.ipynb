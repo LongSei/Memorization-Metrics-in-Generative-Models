{
 "cells": [
  {
   "cell_type": "markdown",
   "metadata": {},
   "source": [
    "# Load pretrain model"
   ]
  },
  {
   "cell_type": "code",
   "execution_count": 1,
   "metadata": {},
   "outputs": [],
   "source": [
    "from Score_Matching import *\n",
    "from FLIPD import *\n",
    "import torch \n",
    "from tqdm import tqdm\n",
    "import numpy as np\n",
    "import os\n",
    "import matplotlib.pyplot as plt"
   ]
  },
  {
   "cell_type": "code",
   "execution_count": 2,
   "metadata": {},
   "outputs": [],
   "source": [
    "device = torch.device(\"cuda\" if torch.cuda.is_available() else \"cpu\")"
   ]
  },
  {
   "cell_type": "code",
   "execution_count": 3,
   "metadata": {},
   "outputs": [],
   "source": [
    "score_model = ScoreNet(\n",
    "    image_dim=(1,28,28), \n",
    "    use_condition=True, \n",
    "    num_classes=10, \n",
    "    device = device\n",
    ")"
   ]
  },
  {
   "cell_type": "code",
   "execution_count": 4,
   "metadata": {},
   "outputs": [
    {
     "name": "stdout",
     "output_type": "stream",
     "text": [
      "Loading model from checkpoint:  ./Score_Matching/checkpoints/20250114-100745\n"
     ]
    },
    {
     "data": {
      "text/plain": [
       "<All keys matched successfully>"
      ]
     },
     "execution_count": 4,
     "metadata": {},
     "output_type": "execute_result"
    }
   ],
   "source": [
    "# Load model with lastest checkpoint\n",
    "def find_last_folder():\n",
    "    all_subdirs = ['./Score_Matching/checkpoints/' + d for d in os.listdir('./Score_Matching/checkpoints/') if os.path.isdir(os.path.join('./Score_Matching/checkpoints/', d))]\n",
    "    return max(all_subdirs, key=os.path.getmtime)\n",
    "\n",
    "last_checkpoint = find_last_folder()\n",
    "print(\"Loading model from checkpoint: \", last_checkpoint)\n",
    "\n",
    "score_model.model.load_state_dict(torch.load(last_checkpoint + '/model.pt', map_location=device))"
   ]
  },
  {
   "cell_type": "markdown",
   "metadata": {},
   "source": [
    "# Test model"
   ]
  },
  {
   "cell_type": "code",
   "execution_count": 5,
   "metadata": {},
   "outputs": [],
   "source": [
    "# # Sampling \n",
    "# sampler = Predictor_Corrector_Sampler(\n",
    "#     score_model=score_model, \n",
    "#     signal_to_noise_ratio=0.16, \n",
    "#     device=device,\n",
    "#     epsilon=1e-6\n",
    "# )\n",
    "\n",
    "# image_state = sampler.sample(\n",
    "#     num_steps=100, \n",
    "#     batch_size=1, \n",
    "#     sample_condition=torch.tensor([0]).to(device)\n",
    "# )\n",
    "\n",
    "# # show image\n",
    "# import matplotlib.pyplot as plt\n",
    "# plt.imshow(image_state.squeeze().cpu().detach().numpy(), cmap='gray')"
   ]
  },
  {
   "cell_type": "markdown",
   "metadata": {},
   "source": [
    "# Calculate FLIPD "
   ]
  },
  {
   "cell_type": "code",
   "execution_count": 6,
   "metadata": {},
   "outputs": [],
   "source": [
    "metric = FLIPD(\n",
    "    score_model=score_model\n",
    ")"
   ]
  },
  {
   "cell_type": "code",
   "execution_count": 11,
   "metadata": {},
   "outputs": [],
   "source": [
    "batch_size = 1 \n",
    "condition_label = [0]\n",
    "\n",
    "x = torch.randn(batch_size, 1, 28, 28).to(device)\n",
    "y = torch.tensor(condition_label).to(device)\n",
    "t_0 = torch.ones(batch_size).to(device) * (0.999999)\n",
    "\n",
    "time_steps = torch.linspace(1., 1e-5, 40)\n",
    "step_size = time_steps[0] - time_steps[1]\n",
    "\n",
    "image_state = x.clone()\n",
    "\n",
    "flipd_hist = []"
   ]
  },
  {
   "cell_type": "code",
   "execution_count": 8,
   "metadata": {},
   "outputs": [
    {
     "name": "stderr",
     "output_type": "stream",
     "text": [
      "100%|██████████| 1000/1000 [00:58<00:00, 17.13it/s]\n"
     ]
    }
   ],
   "source": [
    "for step in tqdm(time_steps): \n",
    "    batch_time_step = torch.ones(batch_size, device=score_model.device) * step\n",
    "    score = score_model.model(batch_time_step, image_state, y)\n",
    "    score_norm = torch.norm(score.reshape(score.shape[0], -1), dim=-1).mean()\n",
    "    \n",
    "    # # Corrector step (Langevin MCMC)\n",
    "    noise_norm = torch.sqrt(torch.prod(torch.tensor(image_state.shape[1:])))\n",
    "    langevin_step_size = 2 * (0.16 * noise_norm / score_norm)**2\n",
    "    image_state = image_state + langevin_step_size * score + torch.sqrt(2 * langevin_step_size) * torch.randn_like(image_state)\n",
    "    \n",
    "    # Predictor step (Euler-Maruyama)\n",
    "    g = score_model.sde.sde(torch.zeros_like(image_state), batch_time_step)[1]\n",
    "    x_mean = image_state + (g**2)[:, None, None, None] * score_model.model(batch_time_step, image_state, y) * step_size\n",
    "    image_state = x_mean + torch.sqrt(g**2 * step_size)[:, None, None, None] * torch.randn_like(image_state)\n",
    "\n",
    "    flipd_hist.append(metric.flipd(t_0, x_mean, y))"
   ]
  },
  {
   "cell_type": "code",
   "execution_count": 14,
   "metadata": {},
   "outputs": [
    {
     "ename": "IndexError",
     "evalue": "list index out of range",
     "output_type": "error",
     "traceback": [
      "\u001b[0;31m---------------------------------------------------------------------------\u001b[0m",
      "\u001b[0;31mIndexError\u001b[0m                                Traceback (most recent call last)",
      "Cell \u001b[0;32mIn[14], line 4\u001b[0m\n\u001b[1;32m      2\u001b[0m step \u001b[38;5;241m=\u001b[39m step \u001b[38;5;241m+\u001b[39m [\u001b[38;5;28mlen\u001b[39m(flipd_hist)\u001b[38;5;241m-\u001b[39m\u001b[38;5;241m1\u001b[39m]\n\u001b[1;32m      3\u001b[0m \u001b[38;5;28;01mfor\u001b[39;00m i \u001b[38;5;129;01min\u001b[39;00m step:\n\u001b[0;32m----> 4\u001b[0m     mean_flipd \u001b[38;5;241m=\u001b[39m \u001b[43mflipd_hist\u001b[49m\u001b[43m[\u001b[49m\u001b[43mi\u001b[49m\u001b[43m]\u001b[49m\u001b[38;5;241m.\u001b[39mmean()\u001b[38;5;241m.\u001b[39mdetach()\u001b[38;5;241m.\u001b[39mnumpy()\n\u001b[1;32m      5\u001b[0m     plt\u001b[38;5;241m.\u001b[39mplot(i, mean_flipd, \u001b[38;5;124m'\u001b[39m\u001b[38;5;124mro\u001b[39m\u001b[38;5;124m'\u001b[39m)\n\u001b[1;32m      6\u001b[0m     plt\u001b[38;5;241m.\u001b[39mtext(i, mean_flipd, \u001b[38;5;28mstr\u001b[39m(mean_flipd))\n",
      "\u001b[0;31mIndexError\u001b[0m: list index out of range"
     ]
    }
   ],
   "source": [
    "step = torch.linspace(0, len(flipd_hist)-1, 10).int().tolist()\n",
    "step = step + [len(flipd_hist)-1]\n",
    "for i in step:\n",
    "    mean_flipd = flipd_hist[i].mean().detach().numpy()\n",
    "    plt.plot(i, mean_flipd, 'ro')\n",
    "    plt.text(i, mean_flipd, str(mean_flipd))\n",
    "\n",
    "# Extract mean values from flipd_hist\n",
    "mean_flipd_hist = [f.mean().detach().numpy() for f in flipd_hist]\n",
    "plt.plot(mean_flipd_hist)"
   ]
  }
 ],
 "metadata": {
  "kernelspec": {
   "display_name": "Python 3",
   "language": "python",
   "name": "python3"
  },
  "language_info": {
   "codemirror_mode": {
    "name": "ipython",
    "version": 3
   },
   "file_extension": ".py",
   "mimetype": "text/x-python",
   "name": "python",
   "nbconvert_exporter": "python",
   "pygments_lexer": "ipython3",
   "version": "3.11.7"
  }
 },
 "nbformat": 4,
 "nbformat_minor": 2
}
