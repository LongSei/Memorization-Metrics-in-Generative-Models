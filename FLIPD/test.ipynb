{
 "cells": [
  {
   "cell_type": "code",
   "execution_count": 1,
   "metadata": {},
   "outputs": [
    {
     "name": "stdout",
     "output_type": "stream",
     "text": [
      "(tensor(12., grad_fn=<MulBackward0>),)\n",
      "First derivative: tensor(12., grad_fn=<MulBackward0>)\n",
      "Second derivative: tensor(12.)\n"
     ]
    }
   ],
   "source": [
    "import torch\n",
    "\n",
    "# Define a tensor with requires_grad=True\n",
    "x = torch.tensor(2.0, requires_grad=True)\n",
    "\n",
    "# Define a scalar function of x\n",
    "z = x**3  # z = x^3\n",
    "\n",
    "# Compute the first derivative, enabling create_graph=True\n",
    "grad_first = torch.autograd.grad(z, x, create_graph=True)\n",
    "\n",
    "print(grad_first)\n",
    "\n",
    "# grad_first is a tuple; extract the first element\n",
    "print(\"First derivative:\", grad_first[0])  # Should print 3x^2 for x=2.0, i.e., 12.0\n",
    "\n",
    "# Compute the second derivative (d²z/dx²) using the first derivative\n",
    "grad_second = torch.autograd.grad(grad_first[0], x)\n",
    "\n",
    "# grad_second is also a tuple; extract the first element\n",
    "print(\"Second derivative:\", grad_second[0])  # Should print 6x for x=2.0, i.e., 12.0\n"
   ]
  }
 ],
 "metadata": {
  "kernelspec": {
   "display_name": "Python 3",
   "language": "python",
   "name": "python3"
  },
  "language_info": {
   "codemirror_mode": {
    "name": "ipython",
    "version": 3
   },
   "file_extension": ".py",
   "mimetype": "text/x-python",
   "name": "python",
   "nbconvert_exporter": "python",
   "pygments_lexer": "ipython3",
   "version": "3.11.9"
  }
 },
 "nbformat": 4,
 "nbformat_minor": 2
}
