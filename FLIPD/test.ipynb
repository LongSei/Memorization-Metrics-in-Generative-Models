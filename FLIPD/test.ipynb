{
 "cells": [
  {
   "cell_type": "markdown",
   "metadata": {},
   "source": [
    "# Load pretrain model"
   ]
  },
  {
   "cell_type": "code",
   "execution_count": 1,
   "metadata": {},
   "outputs": [],
   "source": [
    "from Score_Matching import *\n",
    "from FLIPD import *\n",
    "import torch \n",
    "from tqdm import tqdm\n",
    "import numpy as np\n",
    "import os"
   ]
  },
  {
   "cell_type": "code",
   "execution_count": 2,
   "metadata": {},
   "outputs": [],
   "source": [
    "device = torch.device(\"cuda\" if torch.cuda.is_available() else \"cpu\")"
   ]
  },
  {
   "cell_type": "code",
   "execution_count": 3,
   "metadata": {},
   "outputs": [],
   "source": [
    "score_model = ScoreNet(\n",
    "    image_dim=(1,28,28), \n",
    "    use_condition=True, \n",
    "    num_classes=10, \n",
    "    device = device\n",
    ")"
   ]
  },
  {
   "cell_type": "code",
   "execution_count": 4,
   "metadata": {},
   "outputs": [
    {
     "name": "stdout",
     "output_type": "stream",
     "text": [
      "Loading model from checkpoint:  ./Score_Matching/checkpoints/20250114-100745\n"
     ]
    },
    {
     "data": {
      "text/plain": [
       "<All keys matched successfully>"
      ]
     },
     "execution_count": 4,
     "metadata": {},
     "output_type": "execute_result"
    }
   ],
   "source": [
    "# Load model with lastest checkpoint\n",
    "def find_last_folder():\n",
    "    all_subdirs = ['./Score_Matching/checkpoints/' + d for d in os.listdir('./Score_Matching/checkpoints/') if os.path.isdir(os.path.join('./Score_Matching/checkpoints/', d))]\n",
    "    return max(all_subdirs, key=os.path.getmtime)\n",
    "\n",
    "last_checkpoint = find_last_folder()\n",
    "print(\"Loading model from checkpoint: \", last_checkpoint)\n",
    "\n",
    "score_model.model.load_state_dict(torch.load(last_checkpoint + '/model.pt', map_location=device))"
   ]
  },
  {
   "cell_type": "markdown",
   "metadata": {},
   "source": [
    "# Test model"
   ]
  },
  {
   "cell_type": "code",
   "execution_count": 5,
   "metadata": {},
   "outputs": [
    {
     "name": "stderr",
     "output_type": "stream",
     "text": [
      "100%|██████████| 100/100 [00:03<00:00, 29.36it/s]\n"
     ]
    },
    {
     "data": {
      "text/plain": [
       "<matplotlib.image.AxesImage at 0x3468bba90>"
      ]
     },
     "execution_count": 5,
     "metadata": {},
     "output_type": "execute_result"
    },
    {
     "data": {
      "image/png": "[encoded data removed]",
      "text/plain": [
       "<Figure size 640x480 with 1 Axes>"
      ]
     },
     "metadata": {},
     "output_type": "display_data"
    }
   ],
   "source": [
    "# Sampling \n",
    "sampler = Predictor_Corrector_Sampler(\n",
    "    score_model=score_model, \n",
    "    signal_to_noise_ratio=0.16, \n",
    "    device=device,\n",
    "    epsilon=1e-6\n",
    ")\n",
    "\n",
    "image_state = sampler.sample(\n",
    "    num_steps=100, \n",
    "    batch_size=1, \n",
    "    sample_condition=torch.tensor([0]).to(device)\n",
    ")\n",
    "\n",
    "# show image\n",
    "import matplotlib.pyplot as plt\n",
    "plt.imshow(image_state.squeeze().cpu().detach().numpy(), cmap='gray')"
   ]
  },
  {
   "cell_type": "markdown",
   "metadata": {},
   "source": [
    "# Calculate FLIPD "
   ]
  },
  {
   "cell_type": "code",
   "execution_count": 6,
   "metadata": {},
   "outputs": [],
   "source": [
    "metric = FLIPD(\n",
    "    score_model=score_model\n",
    ")"
   ]
  },
  {
   "cell_type": "code",
   "execution_count": 41,
   "metadata": {},
   "outputs": [
    {
     "name": "stdout",
     "output_type": "stream",
     "text": [
      "FLIPD score:  tensor([[[[795.6243, 793.1483, 795.6552, 784.0037, 786.3923, 790.1141, 795.6566,\n",
      "           795.6565, 785.6881, 784.1483, 795.6566, 795.6566, 795.6566, 794.9559,\n",
      "           791.3519, 795.6564, 795.6536, 795.6214, 795.6541, 795.6405, 795.6559,\n",
      "           795.6531, 784.9178, 793.7424, 795.6515, 795.6566, 785.4334, 795.2344],\n",
      "          [795.6566, 795.6566, 795.6566, 795.3790, 795.6566, 795.6454, 785.8324,\n",
      "           795.5817, 791.4297, 795.6566, 795.6566, 795.4260, 795.6560, 785.9459,\n",
      "           795.6566, 784.1838, 784.4733, 790.2339, 795.6033, 795.6550, 795.6562,\n",
      "           795.6566, 795.6539, 795.5543, 795.5062, 788.5900, 795.5455, 795.6566],\n",
      "          [794.4624, 784.7955, 784.1469, 794.5490, 795.6566, 795.6566, 785.3120,\n",
      "           795.6563, 784.1179, 795.6566, 792.2250, 794.8821, 792.5239, 793.9702,\n",
      "           795.6566, 784.0026, 795.6566, 792.6580, 795.6440, 784.7228, 795.6522,\n",
      "           795.6541, 795.6216, 795.6566, 795.6566, 795.6566, 784.2751, 794.5989],\n",
      "          [795.6566, 795.6566, 795.6566, 795.6566, 795.6458, 784.0013, 795.6323,\n",
      "           795.6554, 795.6566, 795.6566, 795.5698, 785.0383, 788.5055, 791.9498,\n",
      "           784.0659, 795.6566, 786.1995, 795.6566, 793.8398, 794.6596, 795.3865,\n",
      "           784.9136, 795.6566, 784.0142, 786.2448, 795.6566, 791.7452, 795.6300],\n",
      "          [793.7064, 795.4806, 794.6873, 795.3484, 784.0845, 792.0435, 786.7085,\n",
      "           794.9539, 784.7831, 795.6566, 795.6381, 793.6896, 788.5815, 795.6566,\n",
      "           795.6432, 788.8573, 788.0063, 795.6566, 795.6566, 791.4542, 794.4460,\n",
      "           795.6566, 795.5906, 784.2589, 786.3605, 784.6996, 795.6566, 795.6375],\n",
      "          [795.6566, 784.0062, 795.6566, 795.6461, 795.6566, 795.6566, 795.6566,\n",
      "           795.6566, 791.9625, 795.6566, 785.1573, 784.6918, 795.6566, 784.0583,\n",
      "           795.6566, 795.6566, 795.2796, 795.6566, 795.2663, 791.6364, 784.0000,\n",
      "           784.1149, 791.0674, 795.6500, 795.6566, 795.6566, 788.1523, 784.2994],\n",
      "          [793.3995, 784.0041, 795.6566, 793.1905, 795.6566, 795.1805, 795.6566,\n",
      "           795.3348, 795.6566, 795.6446, 784.0635, 795.5825, 795.6566, 792.8559,\n",
      "           787.6563, 795.4447, 795.6191, 784.0000, 787.0762, 795.6566, 793.6863,\n",
      "           795.6565, 793.1562, 784.2236, 793.7862, 785.1002, 795.6566, 790.3029],\n",
      "          [795.6531, 792.9507, 795.6566, 795.6288, 795.6566, 795.6566, 795.0562,\n",
      "           784.0009, 794.4060, 794.5497, 784.3320, 795.6566, 787.9573, 794.7159,\n",
      "           788.8865, 795.6563, 795.6566, 795.6566, 795.6566, 784.0479, 784.0026,\n",
      "           795.6518, 784.3643, 789.7518, 795.2482, 795.1288, 795.4095, 786.8101],\n",
      "          [786.0436, 792.0350, 791.1702, 787.8812, 784.1168, 790.8376, 794.7734,\n",
      "           784.2181, 795.6562, 795.6565, 795.6566, 794.5044, 795.6323, 795.6519,\n",
      "           785.7452, 794.3453, 784.6623, 784.0161, 785.1913, 795.4198, 795.6550,\n",
      "           786.0043, 795.6566, 795.4167, 784.0000, 789.1460, 795.4826, 792.2216],\n",
      "          [795.5638, 795.6566, 795.6566, 795.6566, 784.3118, 795.2995, 795.6566,\n",
      "           795.6559, 795.6566, 790.7615, 795.6566, 795.6566, 795.6564, 785.0032,\n",
      "           790.7189, 784.3342, 795.6566, 795.6197, 795.6566, 795.6053, 795.6566,\n",
      "           795.6566, 795.6566, 794.5526, 785.7574, 795.6273, 795.6566, 795.6566],\n",
      "          [790.1600, 795.6367, 795.6566, 784.0003, 787.4566, 795.6566, 795.6467,\n",
      "           795.6354, 794.3154, 795.5756, 795.6566, 790.5668, 795.6566, 794.0982,\n",
      "           794.5490, 795.6566, 795.5699, 793.1514, 787.1556, 795.6402, 794.9070,\n",
      "           795.6566, 786.5175, 795.6566, 795.5609, 785.1769, 795.6566, 790.5258],\n",
      "          [795.6559, 789.2535, 795.6566, 795.6504, 794.8405, 795.6323, 792.0165,\n",
      "           795.6560, 795.6566, 793.6046, 785.4997, 790.8535, 795.6155, 795.6566,\n",
      "           795.5068, 794.9332, 793.1328, 795.6566, 795.6566, 788.6890, 795.0804,\n",
      "           793.4565, 795.6558, 795.6283, 785.4620, 788.5997, 790.8657, 795.6530],\n",
      "          [793.4322, 795.6566, 795.6566, 795.6566, 795.6337, 795.6467, 795.6536,\n",
      "           793.0108, 792.9379, 795.6566, 795.6566, 788.6571, 795.6566, 788.3941,\n",
      "           795.6243, 789.5113, 792.9534, 795.6564, 784.2621, 784.0073, 785.1768,\n",
      "           795.6558, 784.0033, 795.6566, 795.0742, 786.1591, 795.6566, 795.6550],\n",
      "          [795.6566, 795.3023, 795.6506, 784.3797, 795.6566, 795.6566, 795.6566,\n",
      "           784.5118, 784.0812, 795.6566, 795.6562, 795.6566, 795.6566, 795.6542,\n",
      "           795.6183, 788.2658, 795.6566, 795.6492, 795.6566, 786.4973, 791.7828,\n",
      "           795.6566, 785.7289, 795.6566, 795.6500, 795.6566, 795.6566, 787.0406],\n",
      "          [786.0055, 795.0434, 790.9481, 795.6566, 795.6566, 784.1616, 795.3974,\n",
      "           795.6566, 795.6566, 795.6566, 795.6566, 784.0325, 795.6484, 784.7709,\n",
      "           795.6217, 784.0169, 791.4160, 784.0060, 795.6566, 784.0294, 793.6466,\n",
      "           795.6466, 795.6566, 795.5554, 795.6563, 784.3331, 795.3535, 795.5806],\n",
      "          [795.6566, 784.0052, 795.4089, 795.6447, 795.6566, 795.6566, 795.0695,\n",
      "           792.7310, 784.0024, 795.6564, 793.7847, 784.1229, 788.8573, 795.6531,\n",
      "           795.6566, 793.9740, 795.6554, 795.6566, 784.9779, 785.9496, 795.6566,\n",
      "           794.8864, 784.0030, 794.0427, 792.3690, 795.6566, 795.2955, 784.5047],\n",
      "          [789.7307, 793.3387, 784.1702, 787.3649, 795.6566, 785.6682, 794.7762,\n",
      "           784.1064, 795.6566, 784.0000, 795.5704, 793.6994, 795.6566, 795.5542,\n",
      "           784.1774, 795.6566, 795.6566, 795.2749, 791.9907, 795.6274, 795.6566,\n",
      "           795.6566, 795.6566, 794.4365, 784.8430, 795.6566, 795.6566, 795.6565],\n",
      "          [795.6536, 795.5986, 793.9431, 793.6606, 795.6566, 784.0995, 795.6559,\n",
      "           784.5437, 789.9658, 795.6566, 795.6566, 795.6561, 795.6551, 792.4014,\n",
      "           786.6918, 794.2452, 795.6564, 795.6530, 795.6566, 795.6566, 795.6566,\n",
      "           795.6540, 795.6486, 785.4951, 789.5255, 795.6566, 795.3574, 795.6566],\n",
      "          [784.0021, 795.6566, 795.5291, 784.0009, 795.6566, 795.6557, 795.6481,\n",
      "           784.0644, 795.4806, 793.2276, 790.1223, 795.0953, 793.7287, 793.7898,\n",
      "           793.5193, 786.8843, 795.6566, 795.6556, 795.6566, 795.6456, 786.8469,\n",
      "           795.6566, 795.4451, 784.4398, 795.6566, 795.6566, 784.4401, 793.2159],\n",
      "          [795.6566, 795.6566, 795.6566, 795.3309, 795.6566, 794.4748, 795.6530,\n",
      "           784.0655, 790.9532, 792.5457, 795.6488, 795.6566, 795.6566, 785.7062,\n",
      "           784.2356, 794.9256, 794.5462, 791.7487, 795.6566, 784.0419, 795.6566,\n",
      "           793.2756, 794.7111, 795.6564, 795.6560, 788.7514, 786.0900, 788.3811],\n",
      "          [785.4099, 786.0780, 794.7463, 786.4549, 795.6069, 795.6566, 795.6566,\n",
      "           795.6566, 795.6561, 795.6359, 795.6344, 795.6566, 795.1650, 784.0001,\n",
      "           795.6311, 784.1187, 795.6565, 795.6549, 795.0063, 786.5320, 785.3766,\n",
      "           795.5021, 795.6031, 795.3531, 784.0183, 794.8239, 792.0820, 795.6450],\n",
      "          [785.3058, 784.0000, 790.4694, 795.6566, 784.1478, 795.6562, 795.6566,\n",
      "           784.2224, 784.5331, 784.0353, 795.6566, 794.1713, 795.6566, 784.1542,\n",
      "           784.3091, 785.0446, 791.5634, 795.6525, 788.7793, 795.6566, 795.5791,\n",
      "           795.6328, 795.6556, 795.6566, 786.7981, 785.5128, 795.6566, 795.1974],\n",
      "          [795.6566, 795.4259, 788.2650, 786.3167, 792.4640, 795.6566, 795.6566,\n",
      "           793.8132, 788.0466, 795.6566, 795.6439, 795.6566, 784.0045, 784.0027,\n",
      "           795.6566, 795.6566, 795.1619, 791.2117, 795.6566, 791.9244, 784.0071,\n",
      "           795.6566, 786.1379, 794.2840, 785.4125, 795.6522, 784.0000, 795.6262],\n",
      "          [795.6566, 795.6566, 795.2688, 795.6566, 794.9566, 784.2000, 789.1063,\n",
      "           784.8803, 784.3927, 795.6566, 788.9664, 786.1433, 795.6356, 795.6563,\n",
      "           791.9621, 795.6566, 795.6527, 790.0131, 795.6561, 795.6283, 795.5931,\n",
      "           790.3907, 795.6556, 795.6566, 795.6566, 784.0483, 784.2498, 794.3398],\n",
      "          [795.6566, 793.2070, 795.5532, 795.5971, 795.6566, 789.6345, 795.6566,\n",
      "           795.6564, 795.6566, 784.6918, 794.3964, 795.6508, 787.9378, 795.0372,\n",
      "           784.8459, 784.2446, 795.6566, 795.3718, 791.8078, 787.9139, 795.4487,\n",
      "           795.6566, 795.6566, 787.3159, 795.6562, 795.6243, 795.6566, 784.0154],\n",
      "          [785.5062, 795.6566, 794.2992, 793.9932, 788.2000, 784.7443, 795.6566,\n",
      "           795.6566, 795.0428, 795.6555, 795.6566, 795.6520, 791.5175, 784.0226,\n",
      "           794.6882, 784.0811, 784.3286, 789.1580, 795.6566, 795.6562, 795.2549,\n",
      "           787.2169, 784.0001, 795.6552, 784.0223, 784.1488, 795.6566, 785.5493],\n",
      "          [792.8193, 784.0054, 784.2190, 795.6566, 785.8982, 795.6548, 784.0007,\n",
      "           795.6566, 794.6867, 795.3736, 793.3876, 795.6566, 795.6566, 795.6566,\n",
      "           793.4260, 787.3542, 789.1030, 795.6566, 795.6566, 795.6420, 795.6543,\n",
      "           786.7737, 795.6566, 795.6566, 792.9126, 795.6566, 795.6566, 785.3228],\n",
      "          [795.4385, 795.6566, 792.9117, 795.3582, 795.6566, 795.6564, 784.0002,\n",
      "           790.1485, 795.6566, 795.6551, 784.0123, 795.6566, 794.7037, 795.6566,\n",
      "           784.0129, 795.3841, 784.8798, 795.6566, 784.0019, 795.6508, 784.1241,\n",
      "           795.0416, 795.6566, 786.1299, 790.2788, 795.6566, 795.6564, 785.8949]]]],\n",
      "       grad_fn=<AddBackward0>)\n",
      "torch.Size([1, 1, 28, 28])\n"
     ]
    }
   ],
   "source": [
    "batch_size = 1 \n",
    "condition_label = [1]\n",
    "\n",
    "x = torch.randn(batch_size, 1, 28, 28).to(device)\n",
    "y = torch.tensor(condition_label).to(device)\n",
    "t_0 = torch.ones(batch_size).to(device) * (0.999)\n",
    "\n",
    "# Compute the FLIPD score\n",
    "metric_score = metric.flipd(t_0, x, y)\n",
    "print(\"FLIPD score: \", metric_score)\n",
    "print(metric_score.shape)"
   ]
  }
 ],
 "metadata": {
  "kernelspec": {
   "display_name": "Python 3",
   "language": "python",
   "name": "python3"
  },
  "language_info": {
   "codemirror_mode": {
    "name": "ipython",
    "version": 3
   },
   "file_extension": ".py",
   "mimetype": "text/x-python",
   "name": "python",
   "nbconvert_exporter": "python",
   "pygments_lexer": "ipython3",
   "version": "3.11.9"
  }
 },
 "nbformat": 4,
 "nbformat_minor": 2
}
