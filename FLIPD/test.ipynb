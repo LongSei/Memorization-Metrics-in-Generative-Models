{
 "cells": [
  {
   "cell_type": "markdown",
   "metadata": {},
   "source": []
  },
  {
   "cell_type": "code",
   "execution_count": 1,
   "metadata": {},
   "outputs": [],
   "source": [
    "from Score_Matching import *\n",
    "from torch.optim import Adam\n",
    "from torch.utils.data import DataLoader\n",
    "import torchvision.transforms as transforms\n",
    "from torchvision.datasets import MNIST"
   ]
  },
  {
   "cell_type": "code",
   "execution_count": 2,
   "metadata": {},
   "outputs": [],
   "source": [
    "n_epochs = 200 #@param {'type':'integer'}\n",
    "## size of a mini-batch\n",
    "batch_size = 128 #@param {'type':'integer'}\n",
    "## learning rate\n",
    "lr = 0.0005 #@param {'type':'number'}\n",
    "\n",
    "dataset = MNIST('.', train=True, transform=transforms.ToTensor(), download=False)\n",
    "\n",
    "# Filter only single digit\n",
    "# number = 3\n",
    "# dataset.data = dataset.data[dataset.targets == number]\n",
    "# dataset.targets = dataset.targets[dataset.targets == number]\n",
    "\n",
    "data_loader = DataLoader(dataset, batch_size=batch_size, shuffle=True)"
   ]
  },
  {
   "cell_type": "code",
   "execution_count": null,
   "metadata": {},
   "outputs": [],
   "source": [
    "score_model = ScoreNet(image_dim=(1,28,28), \n",
    "                       use_condition=True,\n",
    "                       num_classes=10, \n",
    "                       device='cpu')\n",
    "\n",
    "# score_model.load_state_dict(torch.load('score_model.pth', map_location='cpu'))\n",
    "score_model.train(data_loader=data_loader,\n",
    "                optimizer=Adam(score_model.model.parameters(), lr=lr),\n",
    "                num_epochs=n_epochs,    \n",
    "                device='cpu')\n"
   ]
  },
  {
   "cell_type": "code",
   "execution_count": null,
   "metadata": {},
   "outputs": [],
   "source": [
    "date = datetime.datetime.now().strftime(\"%Y%m%d-%H%M%S\")\n",
    "torch.save(score_model.model.state_dict())(f'./checkpoints/{date}/model.pt')"
   ]
  }
 ],
 "metadata": {
  "kernelspec": {
   "display_name": "Python 3",
   "language": "python",
   "name": "python3"
  },
  "language_info": {
   "codemirror_mode": {
    "name": "ipython",
    "version": 3
   },
   "file_extension": ".py",
   "mimetype": "text/x-python",
   "name": "python",
   "nbconvert_exporter": "python",
   "pygments_lexer": "ipython3",
   "version": "3.11.9"
  }
 },
 "nbformat": 4,
 "nbformat_minor": 2
}
