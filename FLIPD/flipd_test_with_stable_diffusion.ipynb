{
 "cells": [
  {
   "cell_type": "code",
   "execution_count": 15,
   "metadata": {},
   "outputs": [],
   "source": [
    "!python3.11 -m pip install --upgrade pip -q\n",
    "!pip install mediapy diffusers transformers accelerate -q"
   ]
  },
  {
   "cell_type": "code",
   "execution_count": 1,
   "metadata": {},
   "outputs": [],
   "source": [
    "import torch\n",
    "import torchvision\n",
    "import torchvision.transforms as transforms\n",
    "import matplotlib.pyplot as plt\n",
    "import mediapy as media\n",
    "import numpy as np\n",
    "from diffusers import DDIMScheduler, StableDiffusionPipeline\n",
    "from Stable_Diffusion import DiffusionPipelineUtils, FLIPD\n",
    "import json"
   ]
  },
  {
   "cell_type": "code",
   "execution_count": 2,
   "metadata": {},
   "outputs": [
    {
     "data": {
      "application/vnd.jupyter.widget-view+json": {
       "model_id": "022045d9a5c345cb9e3ea112021c661c",
       "version_major": 2,
       "version_minor": 0
      },
      "text/plain": [
       "Loading pipeline components...:   0%|          | 0/7 [00:00<?, ?it/s]"
      ]
     },
     "metadata": {},
     "output_type": "display_data"
    }
   ],
   "source": [
    "# load model\n",
    "device = torch.device(\"cuda\") if torch.cuda.is_available() else torch.device(\"cpu\")\n",
    "\n",
    "model_id = \"CompVis/stable-diffusion-v1-4\"\n",
    "\n",
    "pipe = StableDiffusionPipeline.from_pretrained(model_id)\n",
    "pipe = pipe.to(device)\n",
    "pipe.scheduler = DDIMScheduler.from_config(pipe.scheduler.config)"
   ]
  },
  {
   "cell_type": "code",
   "execution_count": null,
   "metadata": {},
   "outputs": [],
   "source": [
    "stable_diffusion = DiffusionPipelineUtils(pipe)\n",
    "flipd_utils = FLIPD(pipeline=stable_diffusion, device=device)"
   ]
  },
  {
   "cell_type": "code",
   "execution_count": null,
   "metadata": {},
   "outputs": [],
   "source": [
    "prompt = \"A painting of a cat in the style of Picasso\"\n",
    "height = pipe.unet.config.sample_size * pipe.vae_scale_factor\n",
    "width =  pipe.unet.config.sample_size * pipe.vae_scale_factor\n",
    "num_channels_latents = pipe.unet.config.in_channels\n",
    "num_images_per_prompt = 1\n",
    "batch_size = 1\n",
    "\n",
    "flipd_hist = []\n",
    "for t in [100, 10, 1]: \n",
    "    t_0 = torch.tensor([t])\n",
    "    x = stable_diffusion.prepare_latents(\n",
    "        t_0, batch_size=batch_size, num_channels_latents=num_channels_latents, \n",
    "        latent_height=height, \n",
    "        latent_width=width, \n",
    "        latent_dtype=torch.float32\n",
    "    )\n",
    "\n",
    "    flipd_score = flipd_utils.flipd(\n",
    "        t_0, x, guidance_scale=7.5, prompt=prompt\n",
    "    )\n",
    "    \n",
    "    print(flipd_score)\n",
    "    flipd_hist.append(flipd_score)"
   ]
  }
 ],
 "metadata": {
  "kernelspec": {
   "display_name": "Python 3",
   "language": "python",
   "name": "python3"
  },
  "language_info": {
   "codemirror_mode": {
    "name": "ipython",
    "version": 3
   },
   "file_extension": ".py",
   "mimetype": "text/x-python",
   "name": "python",
   "nbconvert_exporter": "python",
   "pygments_lexer": "ipython3",
   "version": "3.11.7"
  }
 },
 "nbformat": 4,
 "nbformat_minor": 2
}
